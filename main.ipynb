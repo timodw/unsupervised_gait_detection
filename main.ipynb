{
 "cells": [
  {
   "cell_type": "code",
   "execution_count": 1,
   "id": "80bc86c6",
   "metadata": {},
   "outputs": [
    {
     "name": "stdout",
     "output_type": "stream",
     "text": [
      "Training dataset: (5668, 200); Validation dataset: (13250, 200)\n"
     ]
    }
   ],
   "source": [
    "import numpy as np\n",
    "from pathlib import Path\n",
    "import matplotlib.pyplot as plt\n",
    "import torch\n",
    "from sklearn.manifold import TSNE\n",
    "\n",
    "from models.dec import train_end_to_end\n",
    "\n",
    "DATA_ROOT = Path('processed_data')\n",
    "PREPROCESSING_METHOD = 'raw'\n",
    "FOLD_ID = 0\n",
    "\n",
    "X_train = np.load(DATA_ROOT / PREPROCESSING_METHOD / f\"fold_{FOLD_ID}\" / 'X_train.npy')\n",
    "y_train = np.load(DATA_ROOT / PREPROCESSING_METHOD / f\"fold_{FOLD_ID}\" / 'y_train.npy')\n",
    "# Shuffle both arrays\n",
    "p = np.random.permutation(len(X_train))\n",
    "X_train, y_train = X_train[p], y_train[p]\n",
    "\n",
    "X_val = np.load(DATA_ROOT / PREPROCESSING_METHOD / f\"fold_{FOLD_ID}\" / 'X_val.npy')\n",
    "y_val = np.load(DATA_ROOT / PREPROCESSING_METHOD / f\"fold_{FOLD_ID}\" / 'y_val.npy')\n",
    "# Shuffle both arrays\n",
    "p = np.random.permutation(len(X_val))\n",
    "X_val, y_val = X_val[p], y_val[p]\n",
    "\n",
    "print(f\"Training dataset: {X_train.shape}; Validation dataset: {X_val.shape}\")"
   ]
  },
  {
   "cell_type": "code",
   "execution_count": 2,
   "id": "4e7829fa",
   "metadata": {},
   "outputs": [
    {
     "name": "stdout",
     "output_type": "stream",
     "text": [
      "Starting pretraining!\n",
      "Pretraining using device: cuda\n",
      "Epoch 1/10\n",
      "Training time: 0.32s; Training loss: 149.02889;\n",
      "\n",
      "Epoch 2/10\n",
      "Training time: 0.07s; Training loss: 100.54580;\n",
      "\n",
      "Epoch 3/10\n",
      "Training time: 0.07s; Training loss: 86.23560;\n",
      "\n",
      "Epoch 4/10\n",
      "Training time: 0.07s; Training loss: 74.80923;\n",
      "\n",
      "Epoch 5/10\n",
      "Training time: 0.07s; Training loss: 66.99379;\n",
      "\n",
      "Epoch 6/10\n",
      "Training time: 0.07s; Training loss: 61.77166;\n",
      "\n",
      "Epoch 7/10\n",
      "Training time: 0.07s; Training loss: 57.72183;\n",
      "\n",
      "Epoch 8/10\n",
      "Training time: 0.07s; Training loss: 54.45939;\n",
      "\n",
      "Epoch 9/10\n",
      "Training time: 0.07s; Training loss: 51.68223;\n",
      "\n",
      "Epoch 10/10\n",
      "Training time: 0.07s; Training loss: 49.82512;\n",
      "\n",
      "Pretraining finished.\n",
      "Training DEC!\n",
      "Training using device: cuda\n",
      "Initializing using KMeans!\n",
      "Iter 0 - Loss: 0.124050 - Delta: 0.433594\n",
      "Iter 300 - Loss: 0.002017 - Delta: 0.000000\n",
      "DEC trained.\n"
     ]
    }
   ],
   "source": [
    "latent_dim = 32\n",
    "layer_sizes = [512, 128]\n",
    "n_clusters = len(np.unique(y_train))\n",
    "dec_cluster_init = 'kmeans'\n",
    "device = 'cuda'\n",
    "\n",
    "pretrain_args = {\n",
    "    'batch_size': 128,\n",
    "    'n_epochs': 10,\n",
    "    'lr': 1E-3,\n",
    "    'weight_decay': 2E-5,\n",
    "    'noise_std': .0\n",
    "}\n",
    "\n",
    "dec_training_args = {\n",
    "    'tol': 1E-3,\n",
    "    'update_interval': 300,\n",
    "    'batch_size': 512,\n",
    "    'lr': 1E-3,\n",
    "    'weight_decay': 2E-5,\n",
    "}\n",
    "\n",
    "dec_model = train_end_to_end(X_train, X_val=None, n_clusters=n_clusters, dec_clustering_init=dec_cluster_init,\n",
    "                             latent_dim=latent_dim, layer_sizes=layer_sizes,\n",
    "                             pretrain_args=pretrain_args, dec_train_args=dec_training_args,\n",
    "                             verbose=True, device=device)"
   ]
  },
  {
   "cell_type": "code",
   "execution_count": 3,
   "id": "05bfb1dd",
   "metadata": {},
   "outputs": [
    {
     "ename": "NameError",
     "evalue": "name 'encoder' is not defined",
     "output_type": "error",
     "traceback": [
      "\u001b[31m---------------------------------------------------------------------------\u001b[39m",
      "\u001b[31mNameError\u001b[39m                                 Traceback (most recent call last)",
      "\u001b[36mCell\u001b[39m\u001b[36m \u001b[39m\u001b[32mIn[3]\u001b[39m\u001b[32m, line 1\u001b[39m\n\u001b[32m----> \u001b[39m\u001b[32m1\u001b[39m z = \u001b[43mencoder\u001b[49m(torch.from_numpy(X_val).to(torch.float32).to(device)).detach().cpu().numpy()\n\u001b[32m      2\u001b[39m tsne = TSNE(n_components=\u001b[32m2\u001b[39m)\n\u001b[32m      3\u001b[39m z_enc = tsne.fit_transform(z)\n",
      "\u001b[31mNameError\u001b[39m: name 'encoder' is not defined"
     ]
    }
   ],
   "source": [
    "z = encoder(torch.from_numpy(X_val).to(torch.float32).to(device)).detach().cpu().numpy()\n",
    "tsne = TSNE(n_components=2)\n",
    "z_enc = tsne.fit_transform(z)\n",
    "\n",
    "colors = plt.cm.rainbow(np.linspace(0, 1, len(np.unique(y_val))))\n",
    "for class_id in np.unique(y_val):\n",
    "    plt.scatter(z_enc[y_val == class_id, 0], z_enc[y_val == class_id, 1], c=colors[class_id], s=5, alpha=.1)\n",
    "\n",
    "plt.show()"
   ]
  },
  {
   "cell_type": "code",
   "execution_count": null,
   "id": "7da90a13",
   "metadata": {},
   "outputs": [],
   "source": []
  }
 ],
 "metadata": {
  "kernelspec": {
   "display_name": ".venv",
   "language": "python",
   "name": "python3"
  },
  "language_info": {
   "codemirror_mode": {
    "name": "ipython",
    "version": 3
   },
   "file_extension": ".py",
   "mimetype": "text/x-python",
   "name": "python",
   "nbconvert_exporter": "python",
   "pygments_lexer": "ipython3",
   "version": "3.11.7"
  }
 },
 "nbformat": 4,
 "nbformat_minor": 5
}
